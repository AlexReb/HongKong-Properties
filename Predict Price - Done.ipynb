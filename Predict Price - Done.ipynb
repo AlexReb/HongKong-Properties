{
 "cells": [
  {
   "cell_type": "code",
   "execution_count": 4,
   "metadata": {
    "collapsed": false
   },
   "outputs": [
    {
     "data": {
      "text/plain": [
       "<matplotlib.text.Text at 0x10e06fd0>"
      ]
     },
     "execution_count": 4,
     "metadata": {},
     "output_type": "execute_result"
    },
    {
     "data": {
      "image/png": "[encoded data removed]",
      "text/plain": [
       "<matplotlib.figure.Figure at 0x3e3a0b8>"
      ]
     },
     "metadata": {},
     "output_type": "display_data"
    }
   ],
   "source": [
    "import pandas as pd\n",
    "from sklearn.cross_validation import train_test_split\n",
    "from sklearn import metrics\n",
    "from sklearn import ensemble\n",
    "from sklearn.grid_search import GridSearchCV\n",
    "from sklearn import preprocessing\n",
    "import matplotlib.pyplot as plt\n",
    "from collections import Counter\n",
    "from sklearn.externals import joblib\n",
    "%matplotlib inline\n",
    "\n",
    "\n",
    "#--------------------------------------------------------------------\n",
    "#Import the da\n",
    "df = pd.read_csv(\"datasets/workproject\")\n",
    "\n",
    "df1 = df[df.rent <= 100000]\n",
    "\n",
    "X_col = [ \"gross\", \"distance\", \"lat\", \"lng\", \"edad\", \"salar\", \"bathh\", \"type\", \"habit\", \"district_label\"]\n",
    "X = df1[X_col]\n",
    "y = df1.rent\n",
    "\n",
    "\n",
    "X_train, X_test, y_train, y_test = train_test_split(X, y, test_size=0.3, random_state=20)\n",
    "\n",
    "\n",
    "tuned_parameters = {\n",
    "    \"n_estimators\": [ 1400],\n",
    "    \"max_depth\" : [ 12],\n",
    "    \"learning_rate\": [ 0.01 ],\n",
    "    \"min_samples_split\" : [ 50],\n",
    "    \"loss\" : [ 'ls', 'lad' ]\n",
    "}\n",
    "\n",
    "gbr = ensemble.GradientBoostingRegressor()\n",
    "clf = GridSearchCV(gbr, cv=3, param_grid=tuned_parameters,\n",
    "        scoring='median_absolute_error', n_jobs = 4)\n",
    "preds = clf.fit(X_train, y_train)\n",
    "best = clf.best_estimator_\n",
    "feat_imp =pd.Series(best.feature_importances_, X.columns).sort_values(ascending=False)\n",
    "feat_imp.plot(kind='bar', title='Feature Importances')\n",
    "plt.ylabel('Feature Importance Score')\n",
    "\n",
    "filename = \"Models/Price/rent_predict_price.joblib.pkl\"\n",
    "\n",
    "_ = joblib.dump(best, filename, compress=9)"
   ]
  }
 ],
 "metadata": {
  "kernelspec": {
   "display_name": "Python 2",
   "language": "python",
   "name": "python2"
  },
  "language_info": {
   "codemirror_mode": {
    "name": "ipython",
    "version": 2
   },
   "file_extension": ".py",
   "mimetype": "text/x-python",
   "name": "python",
   "nbconvert_exporter": "python",
   "pygments_lexer": "ipython2",
   "version": "2.7.12"
  }
 },
 "nbformat": 4,
 "nbformat_minor": 0
}

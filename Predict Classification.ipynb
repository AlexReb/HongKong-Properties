{
 "cells": [
  {
   "cell_type": "code",
   "execution_count": null,
   "metadata": {
    "collapsed": false
   },
   "outputs": [],
   "source": [
    "import pandas as pd\n",
    "import numpy as np\n",
    "from sklearn import cross_validation, metrics\n",
    "from sklearn.ensemble import BaggingClassifier\n",
    "from sklearn.cross_validation import train_test_split, KFold\n",
    "from sklearn.metrics import accuracy_score, precision_score, recall_score, confusion_matrix, classification_report\n",
    "from sklearn.neighbors import KNeighborsClassifier\n",
    "from sklearn.grid_search import GridSearchCV\n",
    "from sklearn.externals import joblib\n",
    "%matplotlib inline\n",
    "\n",
    "df = pd.read_csv('datasets/workproject')\n",
    "                 \n",
    "df = df.dropna()\n",
    "\n",
    "listprice = []\n",
    "for i in df.rent:\n",
    "    if i< 20000:\n",
    "        listprice.append(\"cheap\")\n",
    "    elif i > 20000 and i < 45000:\n",
    "        listprice.append(\"medium\")\n",
    "    elif i > 45000 and i < 80000:\n",
    "        listprice.append(\"high\")\n",
    "    else:\n",
    "        listprice.append(\"very high\")\n",
    "\n",
    "df[\"rentyp\"] = listprice\n",
    "\n",
    "columns_to_use = [ \"gross\", \"salar\", \"habit\", \"bathh\", \"edad\", \"lat\", \"lng\", \"type\", \"distance\", \"nivel\", \"district_label\" ]\n",
    "\n",
    "\n",
    "X = df[columns_to_use]\n",
    "\n",
    "y = df.rentyp\n",
    "\n",
    "X_train, X_test, y_train, y_test = train_test_split(X, y, test_size=0.3, random_state=42)\n",
    "                 \n",
    "                 \n",
    "baggingknn = BaggingClassifier(KNeighborsClassifier())\n",
    "\n",
    "bagging_params = {'n_estimators': [10, 20],\n",
    "                  'max_samples': [0.7, 1.0],\n",
    "                  'max_features': [0.7, 1.0],\n",
    "                  'bootstrap_features': [True, False]}\n",
    "\n",
    "\n",
    "gsbaggingknn = GridSearchCV(baggingknn,\n",
    "                            bagging_params, n_jobs=-1,\n",
    "                            cv=KFold(len(y_train), n_folds=3, shuffle=True))\n",
    "\n",
    "model = gsbaggingknn.fit(X_train, y_train)\n",
    "\n",
    "filename = \"Models/Range/rent_predict_range.joblib.pkl\"\n",
    "\n",
    "_ = joblib.dump(model, filename, compress=9)\n"
   ]
  },
  {
   "cell_type": "code",
   "execution_count": null,
   "metadata": {
    "collapsed": true
   },
   "outputs": [],
   "source": []
  }
 ],
 "metadata": {
  "kernelspec": {
   "display_name": "Python 2",
   "language": "python",
   "name": "python2"
  },
  "language_info": {
   "codemirror_mode": {
    "name": "ipython",
    "version": 2
   },
   "file_extension": ".py",
   "mimetype": "text/x-python",
   "name": "python",
   "nbconvert_exporter": "python",
   "pygments_lexer": "ipython2",
   "version": "2.7.12"
  }
 },
 "nbformat": 4,
 "nbformat_minor": 0
}
